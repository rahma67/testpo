{
 "cells": [
  {
   "cell_type": "markdown",
   "id": "9dd4461b-9366-434d-99b6-25c83499603f",
   "metadata": {},
   "source": [
    "# Data Science Tools and Ecosystem"
   ]
  },
  {
   "cell_type": "markdown",
   "id": "69505176-5fa3-4458-ba53-f777a4c0a8b4",
   "metadata": {},
   "source": [
    "In this notebook, Data Science Tools and Ecosystem are summarized."
   ]
  },
  {
   "cell_type": "markdown",
   "id": "f0504410-c667-460e-a114-28083e17f374",
   "metadata": {},
   "source": [
    "**Objectives:**\n",
    " - Popular Languages in Data Science\n",
    " - Commonly used Languages by Data Scientist\n",
    " - Table creation\n",
    " - Evaluating arithmatic expression"
   ]
  },
  {
   "cell_type": "markdown",
   "id": "c4120146-3fa3-4c7e-b2ac-faf00f6bc279",
   "metadata": {},
   "source": [
    "Some of the popular languages that Data Scientists use are:\n",
    "1. Python\n",
    "2. R\n",
    "3. SQL\n",
    "4. Julia"
   ]
  },
  {
   "cell_type": "markdown",
   "id": "24224988-2f9e-49f5-b9de-cf8db7fa1cd0",
   "metadata": {},
   "source": [
    "Some of the commonly used libraries used by Data Scientists include:\n",
    "1. NumPy\n",
    "2. SciPy\n",
    "3. Matplotlib\n",
    "4. Pandas\n",
    "5. TensorFlow"
   ]
  },
  {
   "cell_type": "markdown",
   "id": "49a8bcef-9eef-4bfa-9010-d7f5cf1d320a",
   "metadata": {},
   "source": [
    "\n",
    "|Data Science Tools|\n",
    "|-------|\n",
    "|Python|\n",
    "|R|\n",
    "|SQL|"
   ]
  },
  {
   "cell_type": "markdown",
   "id": "9409fa14-13d0-49e4-ab92-e774da971bc1",
   "metadata": {},
   "source": [
    "### Below are a few examples of evaluating arithmetic expressions in Python:"
   ]
  },
  {
   "cell_type": "code",
   "execution_count": 2,
   "id": "f4b35ea4-8bab-4f15-95c6-4f2ac48d234e",
   "metadata": {
    "tags": []
   },
   "outputs": [
    {
     "data": {
      "text/plain": [
       "17"
      ]
     },
     "execution_count": 2,
     "metadata": {},
     "output_type": "execute_result"
    }
   ],
   "source": [
    "#This a simple arithmetic expression to mutiply then add integers\n",
    "(3*4)+5"
   ]
  },
  {
   "cell_type": "code",
   "execution_count": 3,
   "id": "3e40e276-e800-43ac-8f25-07aabff6409a",
   "metadata": {
    "tags": []
   },
   "outputs": [
    {
     "data": {
      "text/plain": [
       "3.3333333333333335"
      ]
     },
     "execution_count": 3,
     "metadata": {},
     "output_type": "execute_result"
    }
   ],
   "source": [
    "#This will convert 200 minutes to hours by diving by 60\n",
    "200/60"
   ]
  },
  {
   "cell_type": "markdown",
   "id": "cedf4c75-5bd1-466f-a244-f6da51f4d086",
   "metadata": {},
   "source": [
    "## Author\n",
    "Md. Atiqur Rahman"
   ]
  }
 ],
 "metadata": {
  "kernelspec": {
   "display_name": "Python",
   "language": "python",
   "name": "conda-env-python-py"
  },
  "language_info": {
   "codemirror_mode": {
    "name": "ipython",
    "version": 3
   },
   "file_extension": ".py",
   "mimetype": "text/x-python",
   "name": "python",
   "nbconvert_exporter": "python",
   "pygments_lexer": "ipython3",
   "version": "3.7.12"
  }
 },
 "nbformat": 4,
 "nbformat_minor": 5
}
